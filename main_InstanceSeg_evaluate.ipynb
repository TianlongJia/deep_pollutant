{
 "cells": [
  {
   "attachments": {},
   "cell_type": "markdown",
   "metadata": {},
   "source": [
    "# Instance Segmentation evaluation\n",
    "\n",
    "Test a Detector on A Customized Dataset (e.g., Mask RCNN)\n",
    "\n",
    "Notice: MMDetection **only support evaluating mask AP of dataset in COCO format for now**. Other methods and more advanced usages can be found in the [doc](https://mmdetection.readthedocs.io/en/latest/tutorials/customize_dataset.html). So we need to reorganize the dataset into a COCO format firstly."
   ]
  },
  {
   "cell_type": "markdown",
   "metadata": {},
   "source": [
    "## (1) Test on a test dataset (with labeled data)"
   ]
  },
  {
   "cell_type": "code",
   "execution_count": null,
   "metadata": {},
   "outputs": [],
   "source": [
    "# Single-gpu testing\n",
    "\n",
    "# \"--work-dir\" saves the predicted results\n",
    "# \"--out\" saves the test results in a \"pkl\" file, this file can be used to predict images or output confusion matrix (see below)\n",
    "# \"--show-dir\" saves the predicted images in test dataset\n",
    "\n",
    "!python tools/test.py \\\n",
    "    /scratch/tjian/PythonProject/DP_MMDetection/checkpoints/train_weights/Paper_Peng/Yolact_r101/lr_0.001/Pollutant_yolact_r101.py \\\n",
    "    /scratch/tjian/PythonProject/DP_MMDetection/checkpoints/train_weights/Paper_Peng/Yolact_r101/lr_0.001/best_coco_segm_mAP_50_epoch_27.pth \\\n",
    "    --work-dir /scratch/tjian/PythonProject/DP_MMDetection/checkpoints/train_weights/Paper_Peng/Yolact_r101/lr_0.001/test/ \\\n",
    "    --out /scratch/tjian/PythonProject/DP_MMDetection/checkpoints/train_weights/Paper_Peng/Yolact_r101/lr_0.001/test/result.pkl \\\n",
    "    --cfg-options test_evaluator.classwise=True\n",
    "    \n",
    "    # --cfg-options \\\n",
    "    # --show-dir /scratch/tjian/PythonProject/DP_MMDetection/checkpoints/train_weights/Paper2_exp5/Oos_20per/FRCNN_Frozen_4_PreTrain_GV/pred_images_in_test_dataset/"
   ]
  },
  {
   "attachments": {},
   "cell_type": "markdown",
   "metadata": {},
   "source": [
    "## (2) Predict images in a folder\n",
    "\n",
    "Note: inference_detector only supports single-image inference for now"
   ]
  },
  {
   "cell_type": "code",
   "execution_count": null,
   "metadata": {},
   "outputs": [],
   "source": [
    "import os\n",
    "from mmdet.apis import init_detector, inference_detector\n",
    "from mmdet.utils import register_all_modules\n",
    "from mmdet.registry import VISUALIZERS\n",
    "import mmcv\n",
    "import datetime\n",
    "\n",
    "# define the model configure and model weight\n",
    "config_file =r'/scratch/tjian/PythonProject/DP_MMDetection/checkpoints/train_weights/Paper_Peng/Cascade_mask_rcnn_r50/lr_0.01/Pollutant_cascade_mask_rcnn_r50.py'\n",
    "checkpoint_file = r\"/scratch/tjian/PythonProject/DP_MMDetection/checkpoints/train_weights/Paper_Peng/Cascade_mask_rcnn_r50/lr_0.01/best_coco_segm_mAP_50_epoch_33.pth\"\n",
    "\n",
    "\n",
    "#Register all modules in mmdet into the registries\n",
    "register_all_modules()\n",
    "# build the model from a config file and a checkpoint file\n",
    "model = init_detector(config_file, checkpoint_file, device='cuda:0')  # or device='cpu'\n",
    "\n",
    "# define test image path and output path\n",
    "folder_path = r\"/scratch/tjian/Data/test_Peng/\"\n",
    "out_path = r\"/scratch/tjian/Data/test_Peng_pre/\"\n",
    "\n",
    "file_names = os.listdir(folder_path)\n",
    "\n",
    "starttime = datetime.datetime.now()\n",
    "\n",
    "for filename in file_names:\n",
    "        if filename.endswith('.jpg'):\n",
    "            image_path = os.path.join(folder_path, filename)\n",
    "            img = mmcv.imread(image_path, channel_order='rgb')\n",
    "            result = inference_detector(model, img)\n",
    "            # print(result)\n",
    "            \n",
    "            # init the visualizer(execute this block only once)\n",
    "            visualizer = VISUALIZERS.build(model.cfg.visualizer)\n",
    "            # the dataset_meta is loaded from the checkpoint and\n",
    "            # then pass to the model in init_detector\n",
    "            visualizer.dataset_meta = model.dataset_meta\n",
    "            \n",
    "            out_file_name= os.path.join(out_path, filename)\n",
    "            # show the results\n",
    "            visualizer.add_datasample('result',\n",
    "                                      img,\n",
    "                                      data_sample=result,\n",
    "                                      draw_gt=False,\n",
    "                                      wait_time=0,\n",
    "                                      out_file=out_file_name,\n",
    "                                      pred_score_thr=0.5\n",
    "                                      )\n",
    "\n",
    "endtime = datetime.datetime.now()\n",
    "\n",
    "# calculate taining time\n",
    "days = (endtime - starttime).days\n",
    "seconds = (endtime - starttime).seconds\n",
    "test_time = round((days*24*60*60+seconds)/60)\n",
    "print(\"test time: \", test_time, \" min\")\n",
    "            "
   ]
  },
  {
   "attachments": {},
   "cell_type": "markdown",
   "metadata": {},
   "source": [
    "## (3) Confusion matrix (CM)\n",
    "\n",
    "(1) The font size of the output confusion matrix can be modified in **tools/analysis_tools/confusion_matrix.py** (Line 175-187)\n",
    "\n",
    "(2) The default CM output is normalized CM showing the percentage value. I changed it to be the number value (e.g., the number of TP) in **tools/analysis_tools/confusion_matrix.py**\n",
    "\n",
    "(3) pkl file is generated in the code above (**Test on a test dataset**)"
   ]
  },
  {
   "cell_type": "code",
   "execution_count": null,
   "metadata": {},
   "outputs": [],
   "source": [
    "!python tools/analysis_tools/confusion_matrix.py \\\n",
    "    checkpoints/train_weights/Paper_Peng/Cascade_mask_rcnn_r50/lr_0.01/Pollutant_cascade_mask_rcnn_r50.py \\\n",
    "    checkpoints/train_weights/Paper_Peng/Cascade_mask_rcnn_r50/lr_0.01/test_process/result.pkl \\\n",
    "    checkpoints/train_weights/Paper_Peng/Cascade_mask_rcnn_r50/lr_0.01/test_process/ \\\n",
    "    --show \\\n",
    "    --score-thr 0.5 \\\n",
    "    --tp-iou-thr 0.5\n",
    "    \n",
    "# ${CONFIG}  ${DETECTION_RESULTS}  ${SAVE_DIR} --show"
   ]
  },
  {
   "attachments": {},
   "cell_type": "markdown",
   "metadata": {},
   "source": [
    "## (4) Predict images in a folder and save bbox and segm in an excel file\n",
    "\n",
    "(Only windows system)\n",
    "\n",
    "Note:\n",
    "\n",
    "(1) The function of saving results in excel only works on Windows system \n",
    "\n",
    "(2) define excel path in untils.bbox_segm.py\n",
    "\n",
    "(3) define source image folder below\n",
    "\n",
    "(4) Two folders will be generated in \"--out-dir\", including (1) predicted images, and (2) bbox and mask info in json file (mask info is encoded)\n",
    "\n",
    "(5) I mainly modify the \"/mmdet/apis/det_inferencer.py\" to realize this function, referring: https://blog.csdn.net/m0_46246301/article/details/130561039\n",
    "\n"
   ]
  },
  {
   "cell_type": "code",
   "execution_count": null,
   "metadata": {},
   "outputs": [],
   "source": [
    "!python demo/image_demo.py U:/AIMMW/Tianlong/Pollutant/Model_application/pred_img_before_I_am_China/mixture-feeding/ \\\n",
    "    checkpoints/train_weights/Paper_Peng/Cascade_mask_rcnn_r50/lr_0.01/Pollutant_cascade_mask_rcnn_r50.py \\\n",
    "    --weights checkpoints/train_weights/Paper_Peng/Cascade_mask_rcnn_r50/lr_0.01/best_coco_segm_mAP_50_epoch_33.pth \\\n",
    "    --out-dir U:/AIMMW/Tianlong/Pollutant/Model_application/pred_img_before_I_am_China/mixture-feeding_pred/ \\\n",
    "    --pred-score-thr 0.5 \\\n",
    "    --device cpu"
   ]
  }
 ],
 "metadata": {
  "kernelspec": {
   "display_name": "Python 3",
   "language": "python",
   "name": "python3"
  },
  "language_info": {
   "codemirror_mode": {
    "name": "ipython",
    "version": 3
   },
   "file_extension": ".py",
   "mimetype": "text/x-python",
   "name": "python",
   "nbconvert_exporter": "python",
   "pygments_lexer": "ipython3",
   "version": "3.8.16"
  },
  "pycharm": {
   "stem_cell": {
    "cell_type": "raw",
    "metadata": {
     "collapsed": false
    },
    "source": []
   }
  }
 },
 "nbformat": 4,
 "nbformat_minor": 4
}
