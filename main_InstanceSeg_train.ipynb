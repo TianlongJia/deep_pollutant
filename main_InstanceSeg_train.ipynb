{
  "cells": [
    {
      "attachments": {},
      "cell_type": "markdown",
      "metadata": {
        "id": "aGYwt_UjIrqp"
      },
      "source": [
        "# Instance Segmentation\n",
        "\n",
        "Train a Detector on A Customized Dataset (Mask RCNN)\n",
        "\n",
        "Notice: MMDetection **only support evaluating mask AP of dataset in COCO format for now**. Other methods and more advanced usages can be found in the [doc](https://mmdetection.readthedocs.io/en/latest/tutorials/customize_dataset.html). So we need to reorganize the dataset into a COCO format firstly."
      ]
    },
    {
      "attachments": {},
      "cell_type": "markdown",
      "metadata": {
        "id": "tJxJHruNLb7Y"
      },
      "source": [
        "## Check installation "
      ]
    },
    {
      "cell_type": "code",
      "execution_count": null,
      "metadata": {
        "colab": {
          "base_uri": "https://localhost:8080/"
        },
        "id": "6hD0mmMixT0p",
        "outputId": "3fdfddc5-9314-4d11-ed2b-2833795e1cb6"
      },
      "outputs": [],
      "source": [
        "# Check Pytorch installation\n",
        "import torch, torchvision\n",
        "print(torch.__version__, torch.cuda.is_available())\n",
        "\n",
        "# Check MMDetection installation\n",
        "import mmdet\n",
        "print(mmdet.__version__)\n",
        "\n",
        "# Check mmcv installation\n",
        "from mmcv.ops import get_compiling_cuda_version, get_compiler_version\n",
        "print(get_compiling_cuda_version())\n",
        "print(get_compiler_version())"
      ]
    },
    {
      "attachments": {},
      "cell_type": "markdown",
      "metadata": {
        "id": "PwqJOpBe-bMj"
      },
      "source": [
        "### Modify the model config\n",
        "\n",
        "In the next step, we need to modify the config for the training.\n",
        "To accelerate the process, we finetune a detector using a pre-trained detector.\n",
        "\n",
        "Evaluation metrics:\n",
        "\n",
        "(1) For object detection:\n",
        "\n",
        "cfg.evaluation.metric='bbox'\n",
        "\n",
        "cfg.evaluation.save_best = 'bbox_mAP', 'bbox_mAP_50', 'bbox_mAP_75', 'bbox_mAP_s', 'bbox_mAP_m', 'bbox_mAP_l', 'bbox_mAP_copypaste'\n",
        "\n",
        "(1) For instance segmentation:\n",
        "\n",
        "cfg.evaluation.metric='segm'\n",
        "\n",
        "cfg.evaluation.save_best = 'segm_mAP', 'segm_mAP_50', 'segm_mAP_75', 'segm_mAP_s', 'segm_mAP_m', 'segm_mAP_l', 'segm_mAP_copypaste'"
      ]
    },
    {
      "attachments": {},
      "cell_type": "markdown",
      "metadata": {
        "id": "111W_oZV_3wa"
      },
      "source": [
        "### Train a new detector\n",
        "\n",
        "Finally, lets initialize the dataset and detector, then train a new detector!"
      ]
    },
    {
      "cell_type": "markdown",
      "metadata": {},
      "source": [
        "#### Mask RCNN_r50"
      ]
    },
    {
      "cell_type": "code",
      "execution_count": null,
      "metadata": {},
      "outputs": [],
      "source": [
        "# # Mask RCNN_r50\n",
        "\n",
        "!python tools/train.py \\\n",
        "    configs/mask_rcnn/Pollutant_mask_rcnn_r50.py \\\n",
        "    --work-dir /scratch/tjian/PythonProject/DP_MMDetection/checkpoints/train_weights/Paper_Peng/Mask_RCNN_r50/lr_0.01/ \\\n",
        "    --cfg-options \\\n",
        "    train_cfg.max_epochs=100 \\\n",
        "    optim_wrapper.optimizer.lr=0.01"
      ]
    },
    {
      "cell_type": "markdown",
      "metadata": {},
      "source": [
        "#### Mask RCNN_r101"
      ]
    },
    {
      "cell_type": "code",
      "execution_count": null,
      "metadata": {},
      "outputs": [],
      "source": [
        "# # Mask RCNN_r101\n",
        "\n",
        "!python tools/train.py \\\n",
        "    configs/mask_rcnn/Pollutant_mask_rcnn_r101.py \\\n",
        "    --work-dir /scratch/tjian/PythonProject/DP_MMDetection/checkpoints/train_weights/Paper_Peng/Mask_RCNN_r101/lr_0.01/ \\\n",
        "    --cfg-options \\\n",
        "    train_cfg.max_epochs=100 \\\n",
        "    optim_wrapper.optimizer.lr=0.01"
      ]
    },
    {
      "cell_type": "markdown",
      "metadata": {},
      "source": [
        "#### Yolact_r50"
      ]
    },
    {
      "cell_type": "code",
      "execution_count": null,
      "metadata": {},
      "outputs": [],
      "source": [
        "# # Yolact_r50\n",
        "\n",
        "!python tools/train.py \\\n",
        "    configs/yolact/Pollutant_yolact_r50.py \\\n",
        "    --work-dir /scratch/tjian/PythonProject/DP_MMDetection/checkpoints/train_weights/Paper_Peng/Yolact_r50/lr_0.00001/ \\\n",
        "    --cfg-options \\\n",
        "    train_cfg.max_epochs=100 \\\n",
        "    optim_wrapper.optimizer.lr=0.00001"
      ]
    },
    {
      "cell_type": "markdown",
      "metadata": {},
      "source": [
        "#### Yolact_r101"
      ]
    },
    {
      "cell_type": "code",
      "execution_count": null,
      "metadata": {},
      "outputs": [],
      "source": [
        "# # Yolact_r101\n",
        "\n",
        "!python tools/train.py \\\n",
        "    configs/yolact/Pollutant_yolact_r101.py \\\n",
        "    --work-dir /scratch/tjian/PythonProject/DP_MMDetection/checkpoints/train_weights/Paper_Peng/Yolact_r101/lr_0.00001/ \\\n",
        "    --cfg-options \\\n",
        "    train_cfg.max_epochs=100 \\\n",
        "    optim_wrapper.optimizer.lr=0.00001"
      ]
    },
    {
      "cell_type": "markdown",
      "metadata": {},
      "source": [
        "#### Cascade_mask_rcnn_r50"
      ]
    },
    {
      "cell_type": "code",
      "execution_count": null,
      "metadata": {},
      "outputs": [],
      "source": [
        "# # Cascade_mask_rcnn_r50\n",
        "\n",
        "!python tools/train.py \\\n",
        "    configs/cascade_rcnn/Pollutant_cascade_mask_rcnn_r50.py \\\n",
        "    --work-dir /scratch/tjian/PythonProject/DP_MMDetection/checkpoints/train_weights/Paper_Peng/Cascade_mask_rcnn_r50/lr_0.01/ \\\n",
        "    --cfg-options \\\n",
        "    train_cfg.max_epochs=100 \\\n",
        "    optim_wrapper.optimizer.lr=0.01"
      ]
    },
    {
      "cell_type": "markdown",
      "metadata": {},
      "source": [
        "#### Cascade_mask_rcnn_r101"
      ]
    },
    {
      "cell_type": "code",
      "execution_count": null,
      "metadata": {},
      "outputs": [],
      "source": [
        "# # Cascade_mask_rcnn_r101\n",
        "\n",
        "!python tools/train.py \\\n",
        "    configs/cascade_rcnn/Pollutant_cascade_mask_rcnn_r101.py \\\n",
        "    --work-dir /scratch/tjian/PythonProject/DP_MMDetection/checkpoints/train_weights/Paper_Peng/Cascade_mask_rcnn_r101/lr_0.01/ \\\n",
        "    --cfg-options \\\n",
        "    train_cfg.max_epochs=100 \\\n",
        "    optim_wrapper.optimizer.lr=0.01"
      ]
    },
    {
      "attachments": {},
      "cell_type": "markdown",
      "metadata": {},
      "source": [
        "### Load tensorboard\n",
        "\n",
        "Understand the log\n",
        "\n",
        "From the log, we can have a basic understanding on the training process and know how well the detector is trained.\n",
        "\n",
        "First, since the dataset we are using is small, we loaded a Mask R-CNN model and finetune it for detection. Because the original Mask R-CNN is trained on COCO dataset that contains 80 classes but KITTI Tiny dataset only have 3 classes. Therefore, the last FC layers of the pre-trained Mask R-CNN for classification and regression have different weight shape and are not used. The pre-trained weights of mask prediction layer `mask_head.conv_logits` also does not matches the current model and is not used due to similar reason.\n",
        "\n",
        "Third, after training, the detector is evaluated by the default COCO-style evaluation. The results show that the detector achieves 79.6 bbox AP and 81.5 mask AP on the val dataset, not bad!\n",
        "\n",
        " We can also check the tensorboard to see the curves."
      ]
    },
    {
      "cell_type": "code",
      "execution_count": null,
      "metadata": {},
      "outputs": [],
      "source": [
        "# load tensorboard in colab\n",
        "%load_ext tensorboard\n",
        "\n",
        "# if the tensorboard page on VS Code is not so clear, \n",
        "# you can type this (localhost:6006) on web browser after executing this code \n",
        "\n",
        "# see curves in tensorboard\n",
        "%tensorboard --logdir ./tutorial_exps"
      ]
    },
    {
      "cell_type": "code",
      "execution_count": null,
      "metadata": {},
      "outputs": [],
      "source": []
    }
  ],
  "metadata": {
    "accelerator": "GPU",
    "colab": {
      "collapsed_sections": [],
      "name": "tutorial_03_image_segmentation_final.ipynb",
      "provenance": [],
      "toc_visible": true
    },
    "kernelspec": {
      "display_name": "openmmlab",
      "language": "python",
      "name": "python3"
    },
    "language_info": {
      "codemirror_mode": {
        "name": "ipython",
        "version": 3
      },
      "file_extension": ".py",
      "mimetype": "text/x-python",
      "name": "python",
      "nbconvert_exporter": "python",
      "pygments_lexer": "ipython3",
      "version": "3.8.16"
    },
    "vscode": {
      "interpreter": {
        "hash": "edd6c80a9e89c79aec98202bf9aae967f818a805fb6d102d63b47886e3a3e88e"
      }
    }
  },
  "nbformat": 4,
  "nbformat_minor": 0
}
