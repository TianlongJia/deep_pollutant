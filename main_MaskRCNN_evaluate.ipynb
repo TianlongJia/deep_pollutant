{
 "cells": [
  {
   "attachments": {},
   "cell_type": "markdown",
   "metadata": {},
   "source": [
    "# Instance Segmentation evaluation\n",
    "\n",
    "Test a Detector on A Customized Dataset (Mask RCNN)\n",
    "\n",
    "Notice: MMDetection **only support evaluating mask AP of dataset in COCO format for now**. Other methods and more advanced usages can be found in the [doc](https://mmdetection.readthedocs.io/en/latest/tutorials/customize_dataset.html). So we need to reorganize the dataset into a COCO format firstly."
   ]
  },
  {
   "cell_type": "markdown",
   "metadata": {},
   "source": [
    "## (1) Test on a test dataset"
   ]
  },
  {
   "cell_type": "code",
   "execution_count": null,
   "metadata": {},
   "outputs": [],
   "source": [
    "# Single-gpu testing\n",
    "\n",
    "# \"--show-dir\" saves the predicted images in test dataset\n",
    "# \"test_evaluator.outfile_prefix\": saves the test results in a \"pkl\" file, this file can be used to predict images\n",
    "\n",
    "!python tools/test.py \\\n",
    "    checkpoints/train_weights/Paper_Peng/Cascade_mask_rcnn_r50/lr_0.01/Pollutant_cascade_mask_rcnn_r50.py \\\n",
    "    /scratch/tjian/PythonProject/DP_MMDetection/checkpoints/train_weights/Paper_Peng/Cascade_mask_rcnn_r50/lr_0.01/best_coco_segm_mAP_50_epoch_33.pth \\\n",
    "    --work-dir /scratch/tjian/PythonProject/DP_MMDetection/checkpoints/train_weights/Paper_Peng/Cascade_mask_rcnn_r50/lr_0.01/1/ \\\n",
    "    --out /scratch/tjian/PythonProject/DP_MMDetection/checkpoints/train_weights/Paper_Peng/Cascade_mask_rcnn_r50/lr_0.01/1/result.pkl \\\n",
    "    --cfg-options test_evaluator.classwise=True\n",
    "    \n",
    "    # --cfg-options \\\n",
    "    # --show-dir /scratch/tjian/PythonProject/DP_MMDetection/checkpoints/train_weights/Paper2_exp5/Oos_20per/FRCNN_Frozen_4_PreTrain_GV/pred_images_in_test_dataset/"
   ]
  },
  {
   "attachments": {},
   "cell_type": "markdown",
   "metadata": {},
   "source": [
    "## (2) Predict images in a folder\n",
    "\n",
    "Note: inference_detector only supports single-image inference for now"
   ]
  },
  {
   "cell_type": "code",
   "execution_count": null,
   "metadata": {},
   "outputs": [],
   "source": [
    "import os\n",
    "from mmdet.apis import init_detector, inference_detector\n",
    "from mmdet.utils import register_all_modules\n",
    "from mmdet.registry import VISUALIZERS\n",
    "import mmcv\n",
    "\n",
    "config_file =r'/scratch/tjian/PythonProject/DP_MMDetection/checkpoints/train_weights/Paper_Peng/Yolact_r50/lr_0.001/Pollutant_yolact_r50.py'\n",
    "checkpoint_file = r\"/scratch/tjian/PythonProject/DP_MMDetection/checkpoints/train_weights/Paper_Peng/Yolact_r50/lr_0.001/best_coco_segm_mAP_50_epoch_43.pth\"\n",
    "\n",
    "#Register all modules in mmdet into the registries\n",
    "register_all_modules()\n",
    "# build the model from a config file and a checkpoint file\n",
    "model = init_detector(config_file, checkpoint_file, device='cuda:0')  # or device='cpu'\n",
    "\n",
    "\n",
    "# test images in a folder\n",
    "folder_path = r\"/scratch/tjian/Data/Pollutant/test/\"\n",
    "out_path = r\"/scratch/tjian/PythonProject/DP_MMDetection/checkpoints/train_weights/Paper_Peng/Yolact_r50/lr_0.001/test/ima_pred/\"\n",
    "\n",
    "file_names = os.listdir(folder_path)\n",
    "for filename in file_names:\n",
    "        if filename.endswith('.jpg'):\n",
    "            image_path = os.path.join(folder_path, filename)\n",
    "            img = mmcv.imread(image_path, channel_order='rgb')\n",
    "            result = inference_detector(model, img)\n",
    "            # print(result)\n",
    "            \n",
    "            # init the visualizer(execute this block only once)\n",
    "            visualizer = VISUALIZERS.build(model.cfg.visualizer)\n",
    "            # the dataset_meta is loaded from the checkpoint and\n",
    "            # then pass to the model in init_detector\n",
    "            visualizer.dataset_meta = model.dataset_meta\n",
    "            \n",
    "            out_file_name= os.path.join(out_path, filename)\n",
    "            # show the results\n",
    "            visualizer.add_datasample('result',\n",
    "                                      img,\n",
    "                                      data_sample=result,\n",
    "                                      draw_gt=False,\n",
    "                                      wait_time=0,\n",
    "                                      out_file=out_file_name,\n",
    "                                      pred_score_thr=0.5\n",
    "                                      )\n",
    "            "
   ]
  },
  {
   "attachments": {},
   "cell_type": "markdown",
   "metadata": {},
   "source": [
    "## (3) Confusion matrix"
   ]
  },
  {
   "cell_type": "code",
   "execution_count": null,
   "metadata": {},
   "outputs": [],
   "source": [
    "!python tools/analysis_tools/confusion_matrix.py \\\n",
    "    configs/mask_rcnn/mask_rcnn_r50_caffe_fpn_mstrain-poly_1x_coco_Pollutant.py \\\n",
    "    F:/Tianlong/PythonProject/deep_plastic_MMDetection/checkpoints/train_weights/train1_300_epochs_v4/test/output.pkl \\\n",
    "    F:/Tianlong/PythonProject/deep_plastic_MMDetection/checkpoints/train_weights/train1_300_epochs_v4/test \\\n",
    "    --show \\\n",
    "    --score-thr 0.5 \\\n",
    "    --tp-iou-thr 0.5 \n",
    "    \n",
    "    \n",
    "# ${CONFIG}  ${DETECTION_RESULTS}  ${SAVE_DIR} --show\n",
    "\n",
    "!python tools/analysis_tools/confusion_matrix.py \\\n",
    "    checkpoints/train_weights/Paper_Peng/Cascade_mask_rcnn_r50/lr_0.01/Pollutant_cascade_mask_rcnn_r50.py \\\n",
    "    checkpoints/train_weights/Paper_Peng/Cascade_mask_rcnn_r50/lr_0.01/test_process/result.pkl \\\n",
    "    checkpoints/train_weights/Paper_Peng/Cascade_mask_rcnn_r50/lr_0.01/test_process/ \\\n",
    "    --show \\\n",
    "    --score-thr 0.5 \\\n",
    "    --tp-iou-thr 0.5"
   ]
  },
  {
   "attachments": {},
   "cell_type": "markdown",
   "metadata": {},
   "source": [
    "## (4) Predict images in a folder and save bbox and segm in an excel file\n",
    "\n",
    "(Only windows system)\n",
    "\n",
    "Note:\n",
    "\n",
    "(1) The function of saving results in excel only works on Windows system \n",
    "\n",
    "(2) define excel path in untils.bbox_segm.py\n",
    "\n",
    "(3) define source image folder below\n",
    "\n",
    "(4) Two folders will be generated in \"--out-dir\", including (1) predicted images, and (2) bbox and mask info in json file (mask info is encoded)\n",
    "\n",
    "(5) I mainly modify the \"/mmdet/apis/det_inferencer.py\" to realize this function, referring: https://blog.csdn.net/m0_46246301/article/details/130561039\n",
    "\n"
   ]
  },
  {
   "cell_type": "code",
   "execution_count": 1,
   "metadata": {},
   "outputs": [
    {
     "name": "stdout",
     "output_type": "stream",
     "text": [
      "Loads checkpoint by local backend from path: checkpoints/train_weights/Paper_Peng/Cascade_mask_rcnn_r50/lr_0.01/best_coco_segm_mAP_50_epoch_33.pth\n",
      "['entrap bean', 'free bean']\n",
      "09/28 21:15:22 - mmengine - WARNING - Failed to search registry with scope \"mmdet\" in the \"function\" registry tree. As a workaround, the current \"function\" registry in \"mmengine\" is used to build instance. This may cause unexpected failure when running the built modules. Please check whether \"mmdet\" is a correct scope, or whether the registry is initialized.\n",
      "reading image:  U:/AIMMW/Tianlong/Pollutant/dataset/v2/test/A10-0-2-1-0-10_jpg.rf.b072000885948088a0f94cee9d6f0ede.jpg\n",
      "reading image:  U:/AIMMW/Tianlong/Pollutant/dataset/v2/test/A10-0-2-1-0-12_jpg.rf.28fa26f722fc64b2545ff8a3adaf141f.jpg\n",
      "reading image:  U:/AIMMW/Tianlong/Pollutant/dataset/v2/test/A10-0-2-1-0-18_jpg.rf.7b918bc0a3702ce92d1ccb47912cc703.jpg\n",
      "reading image:  U:/AIMMW/Tianlong/Pollutant/dataset/v2/test/A10-0-2-1-0-9_jpg.rf.8f5a9e9649dec6deef77ca5d58544455.jpg\n",
      "reading image:  U:/AIMMW/Tianlong/Pollutant/dataset/v2/test/A10-1-4-2-0-P-14_jpg.rf.dd0d9d9110299c10419018e5d97007d6.jpg\n",
      "reading image:  U:/AIMMW/Tianlong/Pollutant/dataset/v2/test/A10-2-5-3-1-P-2_jpg.rf.f0e4567977c4d12391befbfd88ad066b.jpg\n",
      "reading image:  U:/AIMMW/Tianlong/Pollutant/dataset/v2/test/A10-2-5-3-1-P-4_jpg.rf.ba156923a27f5a9b11f7e6124bc5e504.jpg\n",
      "reading image:  U:/AIMMW/Tianlong/Pollutant/dataset/v2/test/A10-smaller0-2-17_jpg.rf.2b63aba6b31416433817d87c1eb7aa8e.jpg\n",
      "reading image:  U:/AIMMW/Tianlong/Pollutant/dataset/v2/test/A10-smaller0-2-26_jpg.rf.62e87defae48ee6f31f7e5f8828f7a50.jpg\n",
      "reading image:  U:/AIMMW/Tianlong/Pollutant/dataset/v2/test/A10-smaller0-2-31_jpg.rf.ebbbdafc9e3217567b193f560224b051.jpg\n",
      "reading image:  U:/AIMMW/Tianlong/Pollutant/dataset/v2/test/A10-smaller0-2-40_jpg.rf.072e028d1405329f0e35b985ad0e2f30.jpg\n",
      "reading image:  U:/AIMMW/Tianlong/Pollutant/dataset/v2/test/A10-smaller0-2-4_jpg.rf.0b03c3f4c4fe9108dfe7ff3035a2c49a.jpg\n",
      "reading image:  U:/AIMMW/Tianlong/Pollutant/dataset/v2/test/A10-smaller0-2-7_jpg.rf.3de11e86b3a012f47d89570a6229a982.jpg\n",
      "reading image:  U:/AIMMW/Tianlong/Pollutant/dataset/v2/test/A10-smaller0-2-9_jpg.rf.44920700daffe36689a6d1c572df0e31.jpg\n",
      "reading image:  U:/AIMMW/Tianlong/Pollutant/dataset/v2/test/A30-0-2-1-0-11_jpg.rf.b99b0e62783500dea71323ac77959801.jpg\n",
      "reading image:  U:/AIMMW/Tianlong/Pollutant/dataset/v2/test/A30-0-2-1-0-18_jpg.rf.108859d56a1b8f15a2545dd77a95fd63.jpg\n",
      "reading image:  U:/AIMMW/Tianlong/Pollutant/dataset/v2/test/A30-0-2-1-0-21_jpg.rf.9cbf473621eb855417fd2941d3c10202.jpg\n",
      "reading image:  U:/AIMMW/Tianlong/Pollutant/dataset/v2/test/A30-0-2-1-0-3_jpg.rf.fd101e7592b97659ea983cadcdba79f3.jpg\n",
      "reading image:  U:/AIMMW/Tianlong/Pollutant/dataset/v2/test/A30-0-2-1-0-9_jpg.rf.b88d1f6a75b5d85c41ea4a30879de067.jpg\n",
      "reading image:  U:/AIMMW/Tianlong/Pollutant/dataset/v2/test/A30-0-6-1-0-P-8_jpg.rf.e49e5a04ca79243b15abb924cd2517cb.jpg\n",
      "reading image:  U:/AIMMW/Tianlong/Pollutant/dataset/v2/test/A30-0-6-1-0-P-9_jpg.rf.d6132767806fac8501c5088b3ac57b96.jpg\n",
      "reading image:  U:/AIMMW/Tianlong/Pollutant/dataset/v2/test/A30-1-4-2-0-P-6_jpg.rf.fa15de7d8b082cf5d4058af4bce088ca.jpg\n",
      "reading image:  U:/AIMMW/Tianlong/Pollutant/dataset/v2/test/A30-2-0-3-0-3_jpg.rf.ff79be63e133a26b1d6bef422a98c2a3.jpg\n",
      "reading image:  U:/AIMMW/Tianlong/Pollutant/dataset/v2/test/A30-2-5-3-0-P-9_jpg.rf.18c6d62c700c9d3be980fe03c9d973b9.jpg\n",
      "reading image:  U:/AIMMW/Tianlong/Pollutant/dataset/v2/test/A30-smaller0-2-15_jpg.rf.103e1350d477c3b8eff19495b4e3722d.jpg\n",
      "reading image:  U:/AIMMW/Tianlong/Pollutant/dataset/v2/test/A30-smaller0-2-18_jpg.rf.fdb6f54761213fa1dacaad0cc6153e07.jpg\n",
      "reading image:  U:/AIMMW/Tianlong/Pollutant/dataset/v2/test/A30-smaller0-2-4_jpg.rf.064f4dd4f8efa206c45b63766876d4ca.jpg\n",
      "reading image:  U:/AIMMW/Tianlong/Pollutant/dataset/v2/test/A30-smaller0-2-5_jpg.rf.4cfb34c0d49296b85dc2fb6c2f17862b.jpg\n",
      "reading image:  U:/AIMMW/Tianlong/Pollutant/dataset/v2/test/A30-smaller0-2-P-16_jpg.rf.06ae03c979dec0428c5718aa4e4e328e.jpg\n",
      "reading image:  U:/AIMMW/Tianlong/Pollutant/dataset/v2/test/A30-smaller0-2-P-5_jpg.rf.a9e38627ddf473dc8c595d6682b73bd1.jpg\n",
      "reading image:  U:/AIMMW/Tianlong/Pollutant/dataset/v2/test/A60-0-2-1-0-10_jpg.rf.993a4047c107fade1c49882c3e7995af.jpg\n",
      "reading image:  U:/AIMMW/Tianlong/Pollutant/dataset/v2/test/A60-0-2-1-0-5_jpg.rf.73c7b12c4838273b0adc64b3f9d7f21b.jpg\n",
      "reading image:  U:/AIMMW/Tianlong/Pollutant/dataset/v2/test/A60-0-2-1-0-8_jpg.rf.a65eaae28a8e0132b2574a2674d88af0.jpg\n",
      "reading image:  U:/AIMMW/Tianlong/Pollutant/dataset/v2/test/A60-0-6-1-0-P-11_jpg.rf.27ceb323acf1ed71ed3694f9327399c2.jpg\n",
      "reading image:  U:/AIMMW/Tianlong/Pollutant/dataset/v2/test/A60-0-6-1-0-P-16_jpg.rf.b524643b58f188463f3adc4d00eeff6f.jpg\n",
      "reading image:  U:/AIMMW/Tianlong/Pollutant/dataset/v2/test/A60-0-6-1-0-P-4_jpg.rf.2a8db4fbbcff558faca151759da73e20.jpg\n",
      "reading image:  U:/AIMMW/Tianlong/Pollutant/dataset/v2/test/A60-0-6-1-0-P-7_jpg.rf.8326548b298589eb1c3c543b55d4dd24.jpg\n",
      "reading image:  U:/AIMMW/Tianlong/Pollutant/dataset/v2/test/A60-0-6-1-0-P-9_jpg.rf.69d3ccdef10158d6d90c307f62b45985.jpg\n",
      "reading image:  U:/AIMMW/Tianlong/Pollutant/dataset/v2/test/A60-1-0-2-0-1_jpg.rf.874d00aee33046731be8a482d8b3e140.jpg\n",
      "reading image:  U:/AIMMW/Tianlong/Pollutant/dataset/v2/test/A60-1-4-2-0-P-1_jpg.rf.4ea676675636d9414f6a9e6bb61c3948.jpg\n",
      "reading image:  U:/AIMMW/Tianlong/Pollutant/dataset/v2/test/A60-1-4-2-0-P-3_jpg.rf.6b6f00cef9308e1be2c1ad6e6513d269.jpg\n",
      "reading image:  U:/AIMMW/Tianlong/Pollutant/dataset/v2/test/A60-2-0-3-0-1_jpg.rf.a779ae070f89e49a1763c870f8c8374c.jpg\n",
      "reading image:  U:/AIMMW/Tianlong/Pollutant/dataset/v2/test/A60-smaller0-2-15_jpg.rf.cf7a171c0dd68614da1d9b2347463358.jpg\n",
      "reading image:  U:/AIMMW/Tianlong/Pollutant/dataset/v2/test/A60-smaller0-2-18_jpg.rf.e78d73ac844022573fd4f47aa6a779e7.jpg\n",
      "reading image:  U:/AIMMW/Tianlong/Pollutant/dataset/v2/test/A60-smaller0-2-1_jpg.rf.fa32f326113402e734aba0e07c772942.jpg\n",
      "reading image:  U:/AIMMW/Tianlong/Pollutant/dataset/v2/test/A60-smaller0-2-27_jpg.rf.66649bded47feac5d116e6b161aaa96e.jpg\n",
      "reading image:  U:/AIMMW/Tianlong/Pollutant/dataset/v2/test/A60-smaller0-2-2_jpg.rf.46ef2666e9742d8f63361a7fd831ab1d.jpg\n",
      "reading image:  U:/AIMMW/Tianlong/Pollutant/dataset/v2/test/A60-smaller0-2-33_jpg.rf.96ac2789bb958977c638f7f0844bb105.jpg\n",
      "reading image:  U:/AIMMW/Tianlong/Pollutant/dataset/v2/test/A60-smaller0-2-37_jpg.rf.3aebed15f7446b3f273c770f6f01439a.jpg\n",
      "reading image:  U:/AIMMW/Tianlong/Pollutant/dataset/v2/test/A60-smaller0-2-P-16_jpg.rf.a8dfa92ac2df02bb364365ff46043a3a.jpg\n",
      "reading image:  U:/AIMMW/Tianlong/Pollutant/dataset/v2/test/A60-smaller0-2-P-6_jpg.rf.91433144bc6f79d0bd509d61108c301e.jpg\n",
      "reading image:  U:/AIMMW/Tianlong/Pollutant/dataset/v2/test/E-1-0-1-_jpg.rf.f0332bbcd7e8bca4797493168bde02ba.jpg\n",
      "reading image:  U:/AIMMW/Tianlong/Pollutant/dataset/v2/test/E-2-0-4-_jpg.rf.924eacb6ebb0904fdf5e622db41dddb7.jpg\n",
      "reading image:  U:/AIMMW/Tianlong/Pollutant/dataset/v2/test/E-3-0-1-_jpg.rf.ae08eb0872b65082c72b60738090259f.jpg\n",
      "reading image:  U:/AIMMW/Tianlong/Pollutant/dataset/v2/test/E-5-0-1-_jpg.rf.9ce376347d44ca1778459200cf6f4570.jpg\n",
      "reading image:  U:/AIMMW/Tianlong/Pollutant/dataset/v2/test/E-5-0-8-_jpg.rf.a188089e26b1a513413a878cfa2067af.jpg\n",
      "reading image:  U:/AIMMW/Tianlong/Pollutant/dataset/v2/test/R-1-12_jpg.rf.34ee1bf6ebc3c270ddecae1d84fda46d.jpg\n",
      "reading image:  U:/AIMMW/Tianlong/Pollutant/dataset/v2/test/R-1-16_jpg.rf.32da9e52d53c629e04d90f6a123ebd38.jpg\n",
      "reading image:  U:/AIMMW/Tianlong/Pollutant/dataset/v2/test/R-1-3_jpg.rf.21ef950c615140f5083bd6c0f1ad634f.jpg\n",
      "reading image:  U:/AIMMW/Tianlong/Pollutant/dataset/v2/test/R-1-5_jpg.rf.04ab3b68956413c7f046fd11fa1f9ad7.jpg\n",
      "reading image:  U:/AIMMW/Tianlong/Pollutant/dataset/v2/test/R-1-9_jpg.rf.10b63b92887d6634531b101eeeba14f3.jpg\n",
      "reading image:  U:/AIMMW/Tianlong/Pollutant/dataset/v2/test/R-2-10_jpg.rf.c27aef4a9e144be9247d4d4a00df15e5.jpg\n",
      "reading image:  U:/AIMMW/Tianlong/Pollutant/dataset/v2/test/R-2-13_jpg.rf.b04e76bd9e355a4f189223a2719141d9.jpg\n",
      "reading image:  U:/AIMMW/Tianlong/Pollutant/dataset/v2/test/R-2-14_jpg.rf.a6b427b17a2bc4774d37ab2ab885828b.jpg\n",
      "reading image:  U:/AIMMW/Tianlong/Pollutant/dataset/v2/test/R-2-3_jpg.rf.b6c40a582a47e3df8c3c02228e2fe71c.jpg\n",
      "reading image:  U:/AIMMW/Tianlong/Pollutant/dataset/v2/test/R-2-4_jpg.rf.3ec2f50019535035175417a381055cc8.jpg\n",
      "reading image:  U:/AIMMW/Tianlong/Pollutant/dataset/v2/test/R-2-9-_jpg.rf.5faf17d9db4eed63a14fc6e85a8be4ce.jpg\n",
      "reading image:  U:/AIMMW/Tianlong/Pollutant/dataset/v2/test/R-3-14_jpg.rf.0aa1445cfae0067794c7d37f40a4e0e4.jpg\n",
      "reading image:  U:/AIMMW/Tianlong/Pollutant/dataset/v2/test/R-3-1_jpg.rf.2f9e19a86bca395c4d961d2540f3f91f.jpg\n",
      "reading image:  U:/AIMMW/Tianlong/Pollutant/dataset/v2/test/R-3-6_jpg.rf.0f4d379f27f470b352aeaa5f6f1cf9ac.jpg\n",
      "Inference ----------------------------------------   \n",
      "results have been saved at U:/AIMMW/Tianlong/Pollutant/dataset/v2/test_pred/\n"
     ]
    },
    {
     "name": "stderr",
     "output_type": "stream",
     "text": [
      "c:\\Users\\tjian\\Anaconda3\\envs\\MMDetection\\lib\\site-packages\\mmengine\\visualization\\visualizer.py:196: UserWarning: Failed to add <class 'mmengine.visualization.vis_backend.LocalVisBackend'>, please provide the `save_dir` argument.\n",
      "  warnings.warn(f'Failed to add {vis_backend.__class__}, '\n",
      "c:\\D\\D\\User\\PythonProject\\DP_MMDetection\\mmdet\\models\\roi_heads\\mask_heads\\fcn_mask_head.py:339: UserWarning: To copy construct from a tensor, it is recommended to use sourceTensor.clone().detach() or sourceTensor.clone().detach().requires_grad_(True), rather than tensor.new_tensor(sourceTensor).\n",
      "  mask_preds = bboxes.new_tensor(mask_preds)\n"
     ]
    }
   ],
   "source": [
    "!python demo/image_demo.py U:/AIMMW/Tianlong/Pollutant/dataset/v2/test/ \\\n",
    "    checkpoints/train_weights/Paper_Peng/Cascade_mask_rcnn_r50/lr_0.01/Pollutant_cascade_mask_rcnn_r50.py \\\n",
    "    --weights checkpoints/train_weights/Paper_Peng/Cascade_mask_rcnn_r50/lr_0.01/best_coco_segm_mAP_50_epoch_33.pth \\\n",
    "    --out-dir U:/AIMMW/Tianlong/Pollutant/dataset/v2/test_pred/ \\\n",
    "    --pred-score-thr 0.5 \\\n",
    "    --device cpu"
   ]
  }
 ],
 "metadata": {
  "kernelspec": {
   "display_name": "Python 3",
   "language": "python",
   "name": "python3"
  },
  "language_info": {
   "codemirror_mode": {
    "name": "ipython",
    "version": 3
   },
   "file_extension": ".py",
   "mimetype": "text/x-python",
   "name": "python",
   "nbconvert_exporter": "python",
   "pygments_lexer": "ipython3",
   "version": "3.8.16"
  },
  "pycharm": {
   "stem_cell": {
    "cell_type": "raw",
    "metadata": {
     "collapsed": false
    },
    "source": []
   }
  }
 },
 "nbformat": 4,
 "nbformat_minor": 4
}
